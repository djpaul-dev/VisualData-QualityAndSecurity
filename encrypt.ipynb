{
 "cells": [
  {
   "cell_type": "code",
   "execution_count": 1,
   "metadata": {},
   "outputs": [],
   "source": [
    "from Crypto.Cipher import AES\n",
    "\n",
    "key = b\"Key of length 16\"  # Replace with your 16-byte key\n",
    "iv = b\"ivb of length 16\"  # Replace with your 16-byte IV\n",
    "\n",
    "\n",
    "def encrypt_image(image_path, output_path):\n",
    "    # Read the image file\n",
    "    with open(image_path, \"rb\") as file:\n",
    "        data = file.read()\n",
    "\n",
    "    # Create a new AES cipher object\n",
    "    cipher = AES.new(key, AES.MODE_CFB, iv)\n",
    "\n",
    "    # Encrypt the data\n",
    "    encrypted_data = cipher.encrypt(data)\n",
    "\n",
    "    # Write the encrypted data to a new file\n",
    "    with open(output_path, \"wb\") as file:\n",
    "        file.write(encrypted_data)\n",
    "\n",
    "\n",
    "def decrypt_image(encrypted_path, output_path):\n",
    "    # Read the encrypted file\n",
    "    with open(encrypted_path, \"rb\") as file:\n",
    "        encrypted_data = file.read()\n",
    "\n",
    "    # Create a new AES cipher object for decryption\n",
    "    cipher = AES.new(key, AES.MODE_CFB, iv)\n",
    "\n",
    "    # Decrypt the data\n",
    "    decrypted_data = cipher.decrypt(encrypted_data)\n",
    "\n",
    "    # Write the decrypted data to a new file\n",
    "    with open(output_path, \"wb\") as file:\n",
    "        file.write(decrypted_data)"
   ]
  },
  {
   "cell_type": "code",
   "execution_count": 2,
   "metadata": {},
   "outputs": [],
   "source": [
    "# Encrypt an image\n",
    "encrypt_image(\"encrypted_images/cat.jpeg\", \"encrypted_images/cat_encrypted.jpeg\")"
   ]
  },
  {
   "cell_type": "code",
   "execution_count": 3,
   "metadata": {},
   "outputs": [],
   "source": [
    "# Decrypt the image\n",
    "decrypt_image(\"encrypted_images/cat_encrypted.jpeg\", \"encrypted_images/cat_decrypted.jpeg\")\n"
   ]
  },
  {
   "cell_type": "code",
   "execution_count": null,
   "metadata": {},
   "outputs": [],
   "source": []
  }
 ],
 "metadata": {
  "kernelspec": {
   "display_name": "Python 3",
   "language": "python",
   "name": "python3"
  },
  "language_info": {
   "codemirror_mode": {
    "name": "ipython",
    "version": 3
   },
   "file_extension": ".py",
   "mimetype": "text/x-python",
   "name": "python",
   "nbconvert_exporter": "python",
   "pygments_lexer": "ipython3",
   "version": "3.11.2"
  }
 },
 "nbformat": 4,
 "nbformat_minor": 2
}
